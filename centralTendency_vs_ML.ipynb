{
 "cells": [
  {
   "cell_type": "markdown",
   "metadata": {},
   "source": [
    "In this notebook I will explore performance between model learned on data with filled values by central tendencies and model where NA values are filled by other models. Also Ill take a look how SMOTE will affect the performance."
   ]
  },
  {
   "cell_type": "code",
   "execution_count": 1,
   "metadata": {},
   "outputs": [],
   "source": [
    "import pandas as pd\n",
    "import preprocess as p\n",
    "from sklearn.svm import SVC"
   ]
  },
  {
   "cell_type": "code",
   "execution_count": 2,
   "metadata": {},
   "outputs": [
    {
     "name": "stderr",
     "output_type": "stream",
     "text": [
      "E:\\Hackathons\\.Git\\Loan_prediction\\preprocess.py:76: SettingWithCopyWarning: \n",
      "A value is trying to be set on a copy of a slice from a DataFrame\n",
      "\n",
      "See the caveats in the documentation: http://pandas.pydata.org/pandas-docs/stable/user_guide/indexing.html#returning-a-view-versus-a-copy\n",
      "  df['LoanAmount'][df['LoanAmount'].isnull()] = df[df['LoanAmount'].isnull()].apply(fill_median, axis=1)\n"
     ]
    }
   ],
   "source": [
    "data = pd.read_csv(r'data/train.csv')\n",
    "proc = p.Preprocess(data, mode='train')\n",
    "# fills NA based on data_exploration_analysis.ipnb\n",
    "x, y = proc.get_data_central_tendency()"
   ]
  },
  {
   "cell_type": "code",
   "execution_count": 3,
   "metadata": {},
   "outputs": [],
   "source": [
    "from sklearn.preprocessing import StandardScaler\n",
    "scaler = StandardScaler().fit(x)\n",
    "x = scaler.transform(x)"
   ]
  },
  {
   "cell_type": "code",
   "execution_count": 4,
   "metadata": {},
   "outputs": [],
   "source": [
    "from sklearn.model_selection import train_test_split\n",
    "x_tr, x_te, y_tr, y_te = train_test_split(x, y, test_size=0.1, random_state=5)"
   ]
  },
  {
   "cell_type": "code",
   "execution_count": 5,
   "metadata": {},
   "outputs": [],
   "source": [
    "# hyperparameters are chosen by model_selection.ipnb\n",
    "model = SVC(C=1, kernel='linear', class_weight='balanced')\n",
    "model.fit(x_tr, y_tr)\n",
    "pred = model.predict(x_te)"
   ]
  },
  {
   "cell_type": "code",
   "execution_count": 6,
   "metadata": {},
   "outputs": [
    {
     "name": "stdout",
     "output_type": "stream",
     "text": [
      "F1/acc:  0.88659793814433 / 0.8225806451612904\n"
     ]
    }
   ],
   "source": [
    "from sklearn.metrics import f1_score, accuracy_score, confusion_matrix\n",
    "print('F1/acc: ',f1_score(y_te, pred),'/',accuracy_score(y_te, pred))"
   ]
  },
  {
   "cell_type": "markdown",
   "metadata": {},
   "source": [
    "Now we try to oversample training set with SMOTE"
   ]
  },
  {
   "cell_type": "code",
   "execution_count": 7,
   "metadata": {},
   "outputs": [],
   "source": [
    "from imblearn.over_sampling import SVMSMOTE\n",
    "sm = SVMSMOTE(k_neighbors=20, n_jobs=1, m_neighbors=20, svm_estimator=SVC(kernel='sigmoid'), random_state=42)\n",
    "x_transformed, y_transformed = sm.fit_resample(x_tr, y_tr)"
   ]
  },
  {
   "cell_type": "code",
   "execution_count": 8,
   "metadata": {},
   "outputs": [
    {
     "name": "stdout",
     "output_type": "stream",
     "text": [
      "F1/acc:  0.88659793814433 / 0.8225806451612904\n"
     ]
    }
   ],
   "source": [
    "model = SVC(C=1, kernel='linear')\n",
    "model.fit(x_transformed, y_transformed)\n",
    "pred = model.predict(x_te)\n",
    "print('F1/acc: ',f1_score(y_te, pred),'/',accuracy_score(y_te, pred))"
   ]
  },
  {
   "cell_type": "markdown",
   "metadata": {},
   "source": [
    "In this case SMOTE has a little benefit for our algorithm. I have chosen SVMSMOTE becasue I have seen in model_selection.ipnb SVM reacts well to this data."
   ]
  },
  {
   "cell_type": "markdown",
   "metadata": {},
   "source": [
    "OK, lets try ML approach"
   ]
  },
  {
   "cell_type": "code",
   "execution_count": 9,
   "metadata": {},
   "outputs": [],
   "source": [
    "proc = p.Preprocess(data, mode='train')\n",
    "# fills NA by models train in train_helper_models.py\n",
    "x, y = proc.get_data_ml()\n",
    "\n",
    "scaler = StandardScaler().fit(x)\n",
    "x = scaler.transform(x)\n",
    "x_tr, x_te, y_tr, y_te = train_test_split(x, y, test_size=0.1, random_state=5)"
   ]
  },
  {
   "cell_type": "code",
   "execution_count": 10,
   "metadata": {},
   "outputs": [
    {
     "name": "stdout",
     "output_type": "stream",
     "text": [
      "F1/acc:  0.8631578947368421 / 0.7903225806451613\n"
     ]
    }
   ],
   "source": [
    "model = SVC(C=1, kernel='linear', class_weight='balanced')\n",
    "model.fit(x_tr, y_tr)\n",
    "pred = model.predict(x_te)\n",
    "print('F1/acc: ',f1_score(y_te, pred),'/',accuracy_score(y_te, pred))"
   ]
  },
  {
   "cell_type": "code",
   "execution_count": 11,
   "metadata": {},
   "outputs": [
    {
     "name": "stdout",
     "output_type": "stream",
     "text": [
      "F1/acc:  0.860215053763441 / 0.7903225806451613\n"
     ]
    }
   ],
   "source": [
    "sm = SVMSMOTE(k_neighbors=5, n_jobs=1, m_neighbors=10, svm_estimator=SVC(kernel='rbf'), random_state=42)\n",
    "x_transformed, y_transformed = sm.fit_resample(x_tr, y_tr)\n",
    "model = SVC(C=1, kernel='linear')\n",
    "model.fit(x_transformed, y_transformed)\n",
    "pred = model.predict(x_te)\n",
    "print('F1/acc: ',f1_score(y_te, pred),'/',accuracy_score(y_te, pred))"
   ]
  },
  {
   "cell_type": "markdown",
   "metadata": {},
   "source": [
    "### Result\n",
    "From this experiment it seems that taking more complicated approach with predictiong missing values is not worth a time. It probably would take a lot of time to optimize helper models and there is big chance that filling with some central tendency variables is more robust solution. SMOTE didnt proove it can boost our performance so its redundant too."
   ]
  }
 ],
 "metadata": {
  "kernelspec": {
   "display_name": "Python 3",
   "language": "python",
   "name": "python3"
  },
  "language_info": {
   "codemirror_mode": {
    "name": "ipython",
    "version": 3
   },
   "file_extension": ".py",
   "mimetype": "text/x-python",
   "name": "python",
   "nbconvert_exporter": "python",
   "pygments_lexer": "ipython3",
   "version": "3.7.3"
  }
 },
 "nbformat": 4,
 "nbformat_minor": 2
}
